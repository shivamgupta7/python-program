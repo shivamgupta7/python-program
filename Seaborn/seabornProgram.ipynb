{
 "cells": [
  {
   "cell_type": "code",
   "execution_count": 1,
   "metadata": {
    "ExecuteTime": {
     "end_time": "2020-04-26T17:58:33.104336Z",
     "start_time": "2020-04-26T17:58:26.674333Z"
    }
   },
   "outputs": [
    {
     "name": "stdout",
     "output_type": "stream",
     "text": [
      "\n",
      "    1.Draw bar plot of sex against survived for a given titanic dataset url\n",
      "    2.Draw point plot of sex against survived for a given titanic dataset url\n",
      "    3.Draw a scatter plot of “day” against “total bill” for a given tips dataset url\n",
      "    4.Draw a violin plot of sex against total_bill for a given tips dataset url\n",
      "    5.Draw a violin plot of “species” against “sepal length” for a given dataset url\n",
      "    6.Draw box plot of life expectancy by continent for a given dataset url\n",
      "    7.Draw a box plot of day by tips for a given dataset url\n",
      "    \n",
      "Enter which program you want to run: 7\n"
     ]
    },
    {
     "data": {
      "image/png": "[encoded data removed]",
      "text/plain": [
       "<Figure size 864x504 with 1 Axes>"
      ]
     },
     "metadata": {},
     "output_type": "display_data"
    },
    {
     "name": "stdout",
     "output_type": "stream",
     "text": [
      "\n",
      "Do you want to continue?[y/n]: n\n"
     ]
    }
   ],
   "source": [
    "import pandas as pd\n",
    "import seaborn as sns; sns.set()\n",
    "from matplotlib import pyplot as plt\n",
    "\n",
    "class programSeaborn:\n",
    "    \n",
    "    def readDataFromURL(self,url):\n",
    "        '''\n",
    "        Read csv data in given url and return data frame\n",
    "        '''\n",
    "        df = pd.read_csv(url)\n",
    "        return df\n",
    "    \n",
    "    # Seaborn Bar plot\n",
    "    def sebornBarPlot(self,**kwargs):\n",
    "        '''\n",
    "        Plot bar chart using seaborn library\n",
    "        '''\n",
    "        df = self.readDataFromURL(kwargs['url'])\n",
    "        fig, ax = plt.subplots(figsize=(12,7))\n",
    "        sns.barplot(kwargs['x'],kwargs['y'], hue=kwargs['hue'], data=df)\n",
    "        plt.savefig('data/3.bar_plot.png')\n",
    "        plt.show()\n",
    "    \n",
    "    def sebornPointPlot(self,**kwargs):\n",
    "        '''\n",
    "        Plot point chart using seaborn library\n",
    "        '''\n",
    "        df = self.readDataFromURL(kwargs['url'])\n",
    "        fig, ax = plt.subplots(figsize=(12,7))\n",
    "        sns.pointplot(kwargs['x'],kwargs['y'], hue=kwargs['hue'], data=df)\n",
    "        plt.savefig('data/1.point_plot.png')\n",
    "        plt.show()\n",
    "\n",
    "    def seabornScatter(self,**kwargs):\n",
    "        '''\n",
    "        Plot scatter chart using seaborn library\n",
    "        '''\n",
    "        df = self.readDataFromURL(kwargs['url'])\n",
    "        fig, ax = plt.subplots(figsize=(12,7))\n",
    "        sns.scatterplot(kwargs['x'],kwargs['y'],hue=kwargs['hue'],style=kwargs['style'], data=df)\n",
    "        plt.savefig('data/7.scatter_plot.png')\n",
    "        plt.show()\n",
    "\n",
    "    def seabornVolin(self,**kwargs):\n",
    "        '''\n",
    "        Plot voilin chart using seaborn library\n",
    "        '''\n",
    "        df = self.readDataFromURL(kwargs['url'])\n",
    "        fig, ax = plt.subplots(figsize=(12,7))\n",
    "        sns.violinplot(kwargs['x'],kwargs['y'],hue=kwargs['hue'],scale=kwargs['scale'], split=kwargs['split'],data=df)  # count, the width of the violins will be scaled \n",
    "        plt.savefig('data/1.violin_plot_iris.png')                                                                           # by the number of observations in that bin\n",
    "        plt.show()\n",
    "\n",
    "    def seabornBoxPlot(self,**kwargs):\n",
    "        '''\n",
    "        Plot Box plot using seaborn library\n",
    "        '''\n",
    "        df = self.readDataFromURL(kwargs['url'])\n",
    "        fig, ax = plt.subplots(figsize=(12,7))\n",
    "        sns.boxplot(kwargs['x'],kwargs['y'],data=df)  \n",
    "        plt.savefig('data/1.box_plot_tips.png')\n",
    "        plt.show()\n",
    "    \n",
    "def switchToFunction(obj):\n",
    "    '''\n",
    "    Create switch function to move perticular program\n",
    "    '''\n",
    "    print('''\n",
    "    1.Draw bar plot of sex against survived for a given titanic dataset url\n",
    "    2.Draw point plot of sex against survived for a given titanic dataset url\n",
    "    3.Draw a scatter plot of “day” against “total bill” for a given tips dataset url\n",
    "    4.Draw a violin plot of sex against total_bill for a given tips dataset url\n",
    "    5.Draw a violin plot of “species” against “sepal length” for a given dataset url\n",
    "    6.Draw box plot of life expectancy by continent for a given dataset url\n",
    "    7.Draw a box plot of day by tips for a given dataset url\n",
    "    ''')\n",
    "    try:\n",
    "        choice = int(input('Enter which program you want to run: '))\n",
    "        switcher = {\n",
    "            1 : lambda : obj.sebornBarPlot(url='https://raw.githubusercontent.com/mwaskom/seaborn-data/master/titanic.csv', x=\"sex\", y=\"survived\", hue='who'),\n",
    "            2 : lambda : obj.sebornPointPlot(url='https://raw.githubusercontent.com/mwaskom/seaborn-data/master/titanic.csv', x=\"sex\", y=\"survived\", hue='class'),\n",
    "            3 : lambda : obj.seabornScatter(url='https://raw.githubusercontent.com/mwaskom/seaborn-data/master/tips.csv', x='day', y='total_bill',hue='smoker',style='smoker'),\n",
    "            4 : lambda : obj.seabornVolin(url='https://raw.githubusercontent.com/mwaskom/seaborn-data/master/tips.csv',x='sex',y='total_bill',hue='time',scale='area',split=True),\n",
    "            5 : lambda : obj.seabornVolin(url='https://raw.githubusercontent.com/mwaskom/seaborn-data/master/iris.csv',x=\"species\", y=\"petal_length\", hue = 'species',scale='area',split=False),\n",
    "            6 : lambda : obj.seabornBoxPlot(url='https://raw.githubusercontent.com/resbaz/r-novice-gapminder-files/master/data/gapminder-FiveYearData.csv',x='continent', y= 'lifeExp'),\n",
    "            7 : lambda : obj.seabornBoxPlot(url='https://raw.githubusercontent.com/mwaskom/seaborn-data/master/tips.csv',x='day',y='tip'),\n",
    "        }\n",
    "        func = switcher.get(choice, lambda: print('\\nInvalid choice please select correct options.'))\n",
    "        func()\n",
    "    except Exception as e:\n",
    "        print(\"\\n\",e)\n",
    "\n",
    "def main():\n",
    "    obj = programSeaborn()\n",
    "    switchToFunction(obj)\n",
    "    options = input('\\nDo you want to continue?[y/n]: ')\n",
    "    if options.lower() == 'y':\n",
    "        main()\n",
    "    else:\n",
    "        exit()\n",
    "\n",
    "if __name__ == \"__main__\":\n",
    "    main()"
   ]
  },
  {
   "cell_type": "code",
   "execution_count": null,
   "metadata": {},
   "outputs": [],
   "source": []
  }
 ],
 "metadata": {
  "kernelspec": {
   "display_name": "Python 3",
   "language": "python",
   "name": "python3"
  },
  "language_info": {
   "codemirror_mode": {
    "name": "ipython",
    "version": 3
   },
   "file_extension": ".py",
   "mimetype": "text/x-python",
   "name": "python",
   "nbconvert_exporter": "python",
   "pygments_lexer": "ipython3",
   "version": "3.7.6"
  },
  "latex_envs": {
   "LaTeX_envs_menu_present": true,
   "autoclose": false,
   "autocomplete": true,
   "bibliofile": "biblio.bib",
   "cite_by": "apalike",
   "current_citInitial": 1,
   "eqLabelWithNumbers": true,
   "eqNumInitial": 1,
   "hotkeys": {
    "equation": "Ctrl-E",
    "itemize": "Ctrl-I"
   },
   "labels_anchors": false,
   "latex_user_defs": false,
   "report_style_numbering": false,
   "user_envs_cfg": false
  },
  "toc": {
   "base_numbering": 1,
   "nav_menu": {},
   "number_sections": true,
   "sideBar": true,
   "skip_h1_title": false,
   "title_cell": "Table of Contents",
   "title_sidebar": "Contents",
   "toc_cell": false,
   "toc_position": {},
   "toc_section_display": true,
   "toc_window_display": false
  },
  "varInspector": {
   "cols": {
    "lenName": 16,
    "lenType": 16,
    "lenVar": 40
   },
   "kernels_config": {
    "python": {
     "delete_cmd_postfix": "",
     "delete_cmd_prefix": "del ",
     "library": "var_list.py",
     "varRefreshCmd": "print(var_dic_list())"
    },
    "r": {
     "delete_cmd_postfix": ") ",
     "delete_cmd_prefix": "rm(",
     "library": "var_list.r",
     "varRefreshCmd": "cat(var_dic_list()) "
    }
   },
   "types_to_exclude": [
    "module",
    "function",
    "builtin_function_or_method",
    "instance",
    "_Feature"
   ],
   "window_display": false
  }
 },
 "nbformat": 4,
 "nbformat_minor": 4
}
